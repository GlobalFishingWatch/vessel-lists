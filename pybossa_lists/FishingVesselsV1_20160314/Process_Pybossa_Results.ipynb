{
 "cells": [
  {
   "cell_type": "code",
   "execution_count": 1,
   "metadata": {
    "collapsed": true
   },
   "outputs": [],
   "source": [
    "import json\n",
    "from os import listdir\n",
    "from os.path import isfile, join\n",
    "import csv"
   ]
  },
  {
   "cell_type": "code",
   "execution_count": 2,
   "metadata": {
    "collapsed": false
   },
   "outputs": [],
   "source": [
    "mypath = \"jsons\"\n",
    "json_files = [f for f in listdir(mypath) if (isfile(join(mypath, f)) and \".json\" in f)]\n",
    "\n",
    "# change this based on the project\n",
    "pybossa_url = \"http://crowd.globalfishingwatch.org/project/maptests2/task/\""
   ]
  },
  {
   "cell_type": "code",
   "execution_count": 3,
   "metadata": {
    "collapsed": false
   },
   "outputs": [],
   "source": [
    "users = [\"\" for i in range(21)]\n",
    "users[1]='davidkroodsma'\n",
    "users[3]='davidkroodsmathe2nd'\n",
    "users[4]='alexwilson'\n",
    "users[5]='chris'\n",
    "users[2]='bjornbergman'\n",
    "users[6]='enriquetuya'\n",
    "users[7]='kristinaboerder'\n",
    "users[8]='vaiduke2'\n",
    "users[9]='katepepler'\n",
    "users[10]='stephanielewis'\n",
    "users[11]='AlexCerra'\n",
    "users[12]='juliecharbonneau'\n",
    "users[13]='ninagalle'\n",
    "users[14]='sidneyblack-rotchin'\n",
    "users[15]='daivdtest'\n",
    "users[16]='cailinburmaster'\n",
    "users[17]='elizabethnagel'\n",
    "users[18]='isabelfleisher'\n",
    "users[19]='ciarawillis'\n",
    "users[20]='clairechristie'\n",
    "user_count = [0 for i in range (21)]"
   ]
  },
  {
   "cell_type": "code",
   "execution_count": 4,
   "metadata": {
    "collapsed": false
   },
   "outputs": [],
   "source": [
    "jsons = []\n",
    "for j in json_files:\n",
    "    f = open(\"jsons/\" + j)\n",
    "    contents = f.read()\n",
    "    jsons.append(json.loads(contents))\n"
   ]
  },
  {
   "cell_type": "code",
   "execution_count": 9,
   "metadata": {
    "collapsed": false
   },
   "outputs": [],
   "source": [
    "results = []\n",
    "for j in jsons:\n",
    "    r = {} # the results for this vessel\n",
    "    v = {} # counts of the vessel types\n",
    "    vessel_responses = ['longliner','purse_seine','trawler','reefer','multigear',\n",
    "    'baddata,','otherfish','not_fishing','muti_gear','other','not_known']\n",
    "    for vr in vessel_responses:\n",
    "        v[vr] = 0 \n",
    "    r['responses'] = 0\n",
    "    r['findyes'] = 0\n",
    "    r['findno'] = 0\n",
    "    r['othertext'] = ''\n",
    "    r['didntsearch'] = 0\n",
    "    r['websitesfound'] = ''\n",
    "    r['theusers'] = ''\n",
    "    responses = 0\n",
    "    for k in j:\n",
    "        if len(k['info'])>20 and k['user_id'] != 1: #ignore david's results\n",
    "            r['responses'] += 1\n",
    "            user_response = json.loads(k['info'].replace(\"\\n\",\"\"))\n",
    "            r['mmsi'] = user_response[\"mmsi\"]\n",
    "            vt = user_response['vesselType'].lower()\n",
    "            if vt ==  vt == 'other fishing ' or vt == \"other_fishing\" or vt == \"other fishing\" or vt == \" other fishing\":\n",
    "                vt = 'otherfish'\n",
    "            if vt == 'bad_data' or vt == 'not_enough_data': \n",
    "                vt = 'baddata'        \n",
    "            if vt not in vessel_responses:\n",
    "                r['othertext'] += vt+\",\"\n",
    "                vt = \"other\"\n",
    "            v[vt]+=1\n",
    "            if user_response['search_url']: \n",
    "                r['websitesfound'] += user_response['search_url']+\",\"\n",
    "            r['theusers'] += users[k['user_id']] + \",\"\n",
    "            user_count[k['user_id']]+=1\n",
    "    r['url'] = pybossa_url + str(j[0]['task_id'])\n",
    "    if len(r['theusers'])>1:r['theusers'] = r['theusers'][:-1] # get rid of comma at end\n",
    "    if len(r['websitesfound'])>1: r['websitesfound'] = r['websitesfound'][:-1] # get rid of comma at end\n",
    "    r['vessel'] = v\n",
    "    results.append(r)"
   ]
  },
  {
   "cell_type": "code",
   "execution_count": 10,
   "metadata": {
    "collapsed": false
   },
   "outputs": [],
   "source": [
    "# if there is agreement\n",
    "\n",
    "outputs = []\n",
    "\n",
    "for r in results:\n",
    "    output = {}\n",
    "    headers = ['mmsi','student_label','student_confidence','pybossa_url']\n",
    "    output['mmsi'] = r['mmsi']\n",
    "    output['pybossa_url'] = r['url']\n",
    "    \n",
    "    # now figure out what the students thought it was\n",
    "    v_types = []\n",
    "    v = r['vessel']\n",
    "    for vr in vessel_responses:\n",
    "        if v[vr]: \n",
    "            if vr not in v_types: v_types.append(vr)\n",
    "                \n",
    "    # three casses:\n",
    "    # 1) Total agreement and an answer\n",
    "    # 2) Total agreement but all say \"not_known\"\n",
    "    # 3) some think they know what it is, other say \"not_known\"\n",
    "    # 4) disagreement\n",
    "    if len(v_types) == 1 and v_types[0] != 'not_known':\n",
    "        output['student_confidence'] = 1\n",
    "        output['student_label'] = v_types[0]\n",
    "        \n",
    "    elif len(v_types) == 1 and v_types[0] == 'not_known':\n",
    "        output['student_confidence'] = 0\n",
    "        output['student_label'] = v_types[0]\n",
    "        \n",
    "        #print r['mmsi'], model_scores[r['mmsi']]['label'], v_types[0], r['url']# sum([v[i] for i in v])\n",
    "        \n",
    "    elif len(v_types) == 2 and \"not_known\" in v_types:\n",
    "        total = sum([v[i] for i in v])\n",
    "        not_knowns = sum([v[i] for i in v if i !='not_known'])\n",
    "        output['student_confidence'] = float(not_knowns)/total\n",
    "        if v_types[0] == 'not_known': output['student_label'] = v_types[1]\n",
    "        else: output['student_label'] = v_types[0]\n",
    "    \n",
    "    else:\n",
    "        total = sum([v[i] for i in v])\n",
    "        not_knowns = sum([v[i] for i in v if i !='not_known'])\n",
    "        output['student_confidence'] = float(not_knowns)/total*.3 # if there is disagreement, it maxes at .3\n",
    "        label_string = ''\n",
    "        for vessel in v_types:\n",
    "            label_string += vessel+\":\"+str(v[vessel])+\",\"\n",
    "        label_string = label_string[:-1] # get rid of comma\n",
    "        output['student_label'] = label_string\n",
    "    \n",
    "    \n",
    "    outputs.append(output)\n",
    "    \n",
    "outputs = sorted(outputs, key=lambda k: -k['student_confidence']) \n",
    "\n",
    "outdir = \"../\"\n",
    "filename = \"FishingVesselsV1_20160314_agreement.csv\"\n",
    "\n",
    "with open(outdir+filename,'w') as f:\n",
    "    f_csv = csv.DictWriter(f, headers)\n",
    "    f_csv.writeheader()\n",
    "    f_csv.writerows(outputs)"
   ]
  },
  {
   "cell_type": "code",
   "execution_count": null,
   "metadata": {
    "collapsed": true
   },
   "outputs": [],
   "source": []
  }
 ],
 "metadata": {
  "kernelspec": {
   "display_name": "Python 2",
   "language": "python",
   "name": "python2"
  },
  "language_info": {
   "codemirror_mode": {
    "name": "ipython",
    "version": 2
   },
   "file_extension": ".py",
   "mimetype": "text/x-python",
   "name": "python",
   "nbconvert_exporter": "python",
   "pygments_lexer": "ipython2",
   "version": "2.7.3"
  }
 },
 "nbformat": 4,
 "nbformat_minor": 0
}
